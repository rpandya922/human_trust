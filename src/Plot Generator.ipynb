{
 "cells": [
  {
   "cell_type": "code",
   "execution_count": 5,
   "metadata": {
    "collapsed": true
   },
   "outputs": [],
   "source": [
    "from __future__ import division\n",
    "import numpy as np\n",
    "import matplotlib.pyplot as plt\n",
    "import csv\n",
    "%matplotlib inline"
   ]
  },
  {
   "cell_type": "code",
   "execution_count": 179,
   "metadata": {
    "collapsed": true
   },
   "outputs": [],
   "source": [
    "csv_filename = \"/home/ravi/dev/human_trust/data/aaai_submission/jmp_training_dataset.csv\"\n",
    "columns_to_plot = ['total training regret']\n",
    "is_likert = [True, False, False]\n",
    "split_by = [['manual condition']]\n",
    "colors = ['C2', 'C3', 'orange', 'grey', 'teal', 'violet', 'blue', 'green', 'red', 'purple']"
   ]
  },
  {
   "cell_type": "code",
   "execution_count": 180,
   "metadata": {
    "collapsed": true
   },
   "outputs": [],
   "source": [
    "def stderror(arr):\n",
    "    return np.std(arr) / np.sqrt(len(arr))\n",
    "def annotate(ax, data_values, x_values, y_values, color='black'):\n",
    "    assert len(x_values) == len(y_values) == len(data_values), \"x, y, and data must be same length\"\n",
    "    for x, y, value in zip(x_values, y_values, data_values):\n",
    "        ax.annotate(str(round(value, 2)), xy=(x, y), color=color)"
   ]
  },
  {
   "cell_type": "code",
   "execution_count": 181,
   "metadata": {},
   "outputs": [],
   "source": [
    "with open(csv_filename, 'rb') as csvfile:\n",
    "    reader = csv.reader(csvfile, delimiter=',')\n",
    "    headings = []\n",
    "    data = []\n",
    "    for i, row in enumerate(reader):\n",
    "        if i == 0:\n",
    "            headings = row\n",
    "        else:\n",
    "            data_with_floats = []\n",
    "            for val in row:\n",
    "                try:\n",
    "                    data_with_floats.append(float(val))\n",
    "                except:\n",
    "                    data_with_floats.append(val)\n",
    "            data.append(data_with_floats)\n",
    "user_id_idx = headings.index('user id')\n",
    "user_ids = set([row[user_id_idx] for row in data])        "
   ]
  },
  {
   "cell_type": "code",
   "execution_count": 182,
   "metadata": {},
   "outputs": [
    {
     "data": {
      "image/png": "[encoded data removed]",
      "text/plain": [
       "<matplotlib.figure.Figure at 0x7f4a374e2190>"
      ]
     },
     "metadata": {},
     "output_type": "display_data"
    }
   ],
   "source": [
    "for i, heading in enumerate(columns_to_plot):\n",
    "    data_idx = headings.index(heading)\n",
    "    \n",
    "    if len(split_by) == 1:\n",
    "        split_headings = split_by[0]\n",
    "    else:\n",
    "        split_headings = split_by[i]\n",
    "    unique_split_values = []\n",
    "    num_unique_split_values = []\n",
    "    for split in split_headings:\n",
    "        split_idx = headings.index(split)\n",
    "        unique = set(row[split_idx] for row in data)\n",
    "        unique_split_values.append(sorted(list(unique)))\n",
    "        num_unique_split_values.append(len(unique))\n",
    "    heading_split_data = []\n",
    "    ##########################################################################################\n",
    "    # CURRENTLY HARD-CODED TO SPLIT ON 1 or 2 AXES\n",
    "    if len(num_unique_split_values) == 1:\n",
    "        for _ in range(num_unique_split_values[0]):\n",
    "            heading_split_data.append([])\n",
    "    elif len(num_unique_split_values) == 2:\n",
    "        for _ in range(num_unique_split_values[0]):\n",
    "            d = []\n",
    "            for j in range(num_unique_split_values[1]):\n",
    "                d.append([])\n",
    "            heading_split_data.append(d)\n",
    "    ##########################################################################################\n",
    "\n",
    "    for row in data:\n",
    "        value = row[data_idx]\n",
    "        idxs = []\n",
    "        for j, split in enumerate(split_headings):\n",
    "            split_heading_idx = headings.index(split)\n",
    "            split_value = row[split_heading_idx]\n",
    "            split_value_idx = unique_split_values[j].index(split_value)\n",
    "            idxs.append(split_value_idx)\n",
    "        if len(idxs) == 1:\n",
    "            heading_split_data[idxs[0]].append(value)\n",
    "        elif len(idxs) == 2:\n",
    "            heading_split_data[idxs[0]][idxs[1]].append(value)\n",
    "    heading_split_data = np.array(heading_split_data)\n",
    "    \n",
    "    fig, ax = plt.subplots()\n",
    "    all_data_values = []\n",
    "    all_x_locs = []\n",
    "    all_y_locs = []\n",
    "    if len(idxs) == 1:\n",
    "        averages = []\n",
    "        errors = []\n",
    "        for condition_data in heading_split_data:\n",
    "            averages.append(np.average(condition_data))\n",
    "            errors.append(stderror(condition_data))\n",
    "        print averages, errors\n",
    "        for j, (average, error) in enumerate(zip(averages, errors)):\n",
    "            ax.bar(j, average, color=colors[1], yerr=error, label=unique_split_values[0][j])\n",
    "#         ax.legend(loc='upper right')\n",
    "        ax.set_xticks(range(len(unique_split_values[0])))\n",
    "        ax.set_xticklabels(unique_split_values[0])\n",
    "        all_x_locs.extend(list(range(len(averages))))\n",
    "        all_y_locs.extend(list(averages))\n",
    "        all_data_values.extend(list(averages))\n",
    "    elif len(idxs) == 2:\n",
    "        y_mins = []\n",
    "        y_maxes = []\n",
    "        values_for_bars = np.array([-0.3, -0.1, 0.1, 0.3])\n",
    "        for j in range(num_unique_split_values[0]):\n",
    "            all_condition_data = heading_split_data[j]\n",
    "            averages = []\n",
    "            errors = []\n",
    "            for condition_data in all_condition_data:\n",
    "                averages.append(np.average(condition_data))\n",
    "                errors.append(stderror(condition_data))\n",
    "                \n",
    "            if num_unique_split_values[0] == 4:\n",
    "                ax.bar(np.arange(len(averages)) + values_for_bars[j], averages, width=0.2, color=colors[j], \n",
    "                    yerr=errors, label=unique_split_values[0][j])\n",
    "                print averages, errors\n",
    "                all_x_locs.extend(list(np.arange(len(averages)) + values_for_bars[j]))\n",
    "            else:\n",
    "                ax.bar(np.arange(len(averages)) - ((-1) ** j * 0.15), averages, width=0.3, color=colors[j], \n",
    "                    yerr=errors, label=unique_split_values[0][j])\n",
    "                print averages, errors\n",
    "                all_x_locs.extend(list(np.arange(len(averages)) + - ((-1) ** j * 0.15)))\n",
    "            ax.set_xticks(range(len(averages)))\n",
    "            ax.set_xticklabels(unique_split_values[1])\n",
    "            all_y_locs.extend(list(averages))\n",
    "            all_data_values.extend(list(averages))\n",
    "            \n",
    "            values_range = max(np.add(averages, errors)) - min(np.subtract(averages, errors))\n",
    "            y_max = (0.25 * values_range) + max(averages)\n",
    "            y_min = max(min(averages) - (0.25 * values_range), 0)\n",
    "            y_mins.append(y_min)\n",
    "            y_maxes.append(y_max)\n",
    "        ax.set_ylim(min(y_mins), max(y_maxes))\n",
    "        ax.legend(loc='upper right')\n",
    "    annotate(ax, all_data_values, all_x_locs, all_y_locs)\n",
    "    if is_likert[i]:\n",
    "        ax.set_ylim(1, 7)\n",
    "    ax.set_title(heading)\n",
    "#     ax.set_title(\"Influence\")\n",
    "#     plt.savefig('/home/ravi/dev/human_trust/data/aaai_submission/plots/' + heading + '.pdf', \n",
    "#                 bbox_inches='tight')\n",
    "#     plt.savefig('/home/ravi/dev/human_trust/data/aaai_submission/plots/influence_groups.pdf', \n",
    "#                 bbox_inches='tight')"
   ]
  },
  {
   "cell_type": "raw",
   "metadata": {
    "collapsed": true
   },
   "source": [
    "plt.close('all')"
   ]
  },
  {
   "cell_type": "code",
   "execution_count": 33,
   "metadata": {},
   "outputs": [
    {
     "data": {
      "image/png": "[encoded data removed]",
      "text/plain": [
       "<matplotlib.figure.Figure at 0x7f4a39689350>"
      ]
     },
     "metadata": {},
     "output_type": "display_data"
    }
   ],
   "source": [
    "robot_order = [\"0.9-Greedy\", \"HA-UCB\", \"0.1-Greedy\", \"UCB\"]\n",
    "# users put into \"explore fully then be greedy\"\n",
    "group1_best_robot = [ 0.14285714,  0.57142857,  0.07142857,  0.21428571]\n",
    "# users put into \"explore fully all the way\"\n",
    "group2_best_robot = [ 0.26315789,  0.15789474,  0.39473684,  0.18421053]\n",
    "\n",
    "fig, ax = plt.subplots()\n",
    "ax.set_xticks(range(4))\n",
    "ax.set_xticklabels(robot_order)\n",
    "ax.bar(np.arange(4)-0.15, group1_best_robot, width=0.3, label=\"Group 1\", color='C2')\n",
    "ax.bar(np.arange(4)+0.15, group2_best_robot, width=0.3, label=\"Group 2\", color='C3')\n",
    "annotate(ax, group1_best_robot, np.arange(4)-0.15, group1_best_robot)\n",
    "annotate(ax, group2_best_robot, np.arange(4)+0.15, group2_best_robot)\n",
    "ax.legend(loc='upper right')\n",
    "ax.set_ylabel(\"Percent of Users\")\n",
    "ax.set_title(\"Percent of Users Who did Best with Each Robot\")\n",
    "plt.savefig('/home/ravi/dev/human_trust/data/aaai_submission/plots/percent_did_best.pdf', \n",
    "                bbox_inches='tight')"
   ]
  },
  {
   "cell_type": "code",
   "execution_count": 80,
   "metadata": {},
   "outputs": [
    {
     "data": {
      "image/png": "[encoded data removed]",
      "text/plain": [
       "<matplotlib.figure.Figure at 0x7f4a374c4e50>"
      ]
     },
     "metadata": {},
     "output_type": "display_data"
    }
   ],
   "source": [
    "# robot_order = [\"0.1-Greedy\", \"0.3-Greedy\", \"0.9-Greedy\", \"UCB\", \"HA-UCB\"]\n",
    "# simulation_results = [50.95, 54.89, 46.65, 63.96, 65.04]\n",
    "robot_order = [\"0.1-Greedy\", \"0.9-Greedy\", \"UCB\", \"HA-UCB\"]\n",
    "simulation_results = [35.9346, 40.3197, 23.0516, 22.1168]\n",
    "# regret of absolutely random: 42.5812\n",
    "\n",
    "fig, ax = plt.subplots()\n",
    "# bar_locs = [0.15, 0.3, 0.45, 0.6, 0.75]\n",
    "bar_locs = [0.15, 0.3, 0.45, 0.6]\n",
    "for i, robot, value in zip(bar_locs, robot_order, simulation_results):\n",
    "    ax.bar(i, value, width=0.14, color='C0')\n",
    "# ax.set_xticks([0.15, 0.3, 0.45, 0.6, 0.75])\n",
    "ax.set_xticks([0.15, 0.3, 0.45, 0.6])\n",
    "ax.set_xticklabels(robot_order);\n",
    "# ax.bar([0.15, 0.3, 0.45, 0.6, 0.75], simulation_results, width=0.3)\n",
    "annotate(ax, simulation_results, np.array(bar_locs) - (0.15/4), np.array(simulation_results)-5, color='white')\n",
    "ax.set_title(\"Simulation Averages over 10,000 Trials\");\n",
    "plt.savefig('/home/ravi/dev/human_trust/data/aaai_submission/plots/simulation_results2.pdf', \n",
    "                bbox_inches='tight')"
   ]
  },
  {
   "cell_type": "code",
   "execution_count": 720,
   "metadata": {},
   "outputs": [
    {
     "data": {
      "image/png": "[encoded data removed]",
      "text/plain": [
       "<matplotlib.figure.Figure at 0x7f2c0c95f5d0>"
      ]
     },
     "metadata": {},
     "output_type": "display_data"
    }
   ],
   "source": [
    "robot_order = [\"0.9-Greedy\", \"HA-UCB\", \"0.1-Greedy\", \"UCB\"]\n",
    "usefulness0 = np.array([ 2.80769231,  4.73076923,  3.92307692,  4.15384615])\n",
    "usefulness1 = np.array([ 2.34615385,  4.80769231,  4.26923077,  4.30769231])\n",
    "usefulness_errors0 = np.array([0.35258651533565594, 0.34210319002650152, 0.32143850545659342, 0.35953745635416129])\n",
    "usefulness_errors1 = np.array([0.26614888663847253, 0.33976684822326381, 0.40176272954464137, 0.42749175835244202])\n",
    "usefulness = (usefulness0 + usefulness1) / 2\n",
    "usefulness_errors = (usefulness_errors0 + usefulness_errors1) / 2\n",
    "\n",
    "advice0 = [ 2.57692308,  4.42307692,  3.42307692,  3.65384615]\n",
    "advice1 = [ 2.46153846,  5.,          4.11538462,  4.38461538]\n",
    "advice_errors0 = [0.36557920698140189, 0.36557920698140189, 0.31328134000809721, 0.36056459545001718]\n",
    "advice_errors1 = [0.28383869716476823, 0.34828404377451605, 0.38968551679877844, 0.41451805292883737]\n",
    "advice = np.add(advice0, advice1) / 2\n",
    "advice_errors = np.add(advice_errors0, advice_errors1) / 2\n",
    "\n",
    "trust0 = [ 2.57692308,  4.76923077,  3.84615385,  4.11538462]\n",
    "trust1 = [ 2.42307692,  4.88461538,  4.53846154,  4.34615385]\n",
    "trust_errors0 = [0.33163159910342715, 0.30916805864173091, 0.30620944456652338, 0.33673916247029029]\n",
    "trust_errors1 = [0.23817027449720451, 0.2945607655582822, 0.3450013687939969, 0.36867870464043379]\n",
    "trust = np.add(trust0, trust1) / 2\n",
    "trust_errors = np.add(trust_errors0, trust_errors1) / 2\n",
    "\n",
    "fig, ax = plt.subplots()\n",
    "ax.bar([0, 0.5, 1.0], [usefulness[0], advice[0], trust[0]], label=robot_order[0],\n",
    "       yerr=[usefulness_errors[0], advice_errors[0], trust_errors[0]], width=0.1)\n",
    "ax.bar([0.1, 0.6, 1.1], [usefulness[1], advice[1], trust[1]], label=robot_order[1],\n",
    "       yerr=[usefulness_errors[1], advice_errors[1], trust_errors[1]], width=0.1)\n",
    "ax.bar([0.2, 0.7, 1.2], [usefulness[2], advice[2], trust[2]], label=robot_order[2],\n",
    "       yerr=[usefulness_errors[2], advice_errors[2], trust_errors[2]], width=0.1)\n",
    "ax.bar([0.3, 0.8, 1.3], [usefulness[3], advice[3], trust[3]], label=robot_order[3],\n",
    "       yerr=[usefulness_errors[3], advice_errors[3], trust_errors[3]], width=0.1)\n",
    "ax.set_ylim(1, 7)\n",
    "ax.legend(loc=\"upper right\");\n",
    "ax.set_xticks([0.15, 0.65, 1.15]);\n",
    "ax.set_xticklabels([\"Usefulness\", \"Good Advice\", \"Trust\"]);\n",
    "ax.set_title(\"Likert Scale Answers\");\n",
    "for i in range(4):\n",
    "    annotate(ax, [usefulness[i], advice[i], trust[i]], [0+(0.1*i), 0.5+(0.1*i), 1.0+(0.1*i)], \n",
    "             [usefulness[i], advice[i], trust[i]])\n",
    "plt.savefig('/home/ravi/dev/human_trust/data/aaai_submission/figures/likert_questions.pdf', \n",
    "                bbox_inches='tight')"
   ]
  },
  {
   "cell_type": "code",
   "execution_count": 121,
   "metadata": {},
   "outputs": [
    {
     "name": "stdout",
     "output_type": "stream",
     "text": [
      "collaborate 55.0\n",
      "observe and collaborate 57.0\n",
      "collaborate 38.0\n",
      "collaborate 64.0\n",
      "observe and collaborate 73.0\n",
      "observe and collaborate 59.0\n",
      "observe and collaborate 70.0\n",
      "collaborate 67.0\n",
      "collaborate 78.0\n",
      "collaborate 35.0\n",
      "collaborate 77.0\n",
      "collaborate 56.0\n",
      "collaborate 42.0\n",
      "observe and collaborate 35.0\n",
      "observe and collaborate 45.0\n",
      "observe and collaborate 84.0\n",
      "collaborate 86.0\n",
      "collaborate 51.0\n",
      "observe and collaborate 94.0\n",
      "collaborate 77.0\n",
      "observe and collaborate 62.0\n",
      "observe and collaborate 68.0\n",
      "collaborate 67.0\n",
      "observe and collaborate 73.0\n",
      "observe and collaborate 52.0\n",
      "collaborate 71.0\n",
      "collaborate 45.0\n",
      "observe and collaborate 42.0\n",
      "observe and collaborate 83.0\n",
      "collaborate 44.0\n",
      "collaborate 40.0\n",
      "observe and collaborate 77.0\n",
      "collaborate 27.0\n",
      "collaborate 39.0\n",
      "collaborate 58.0\n",
      "observe and collaborate 72.0\n",
      "observe and collaborate 59.0\n",
      "observe and collaborate 45.0\n",
      "\n",
      "59.6578947368\n"
     ]
    }
   ],
   "source": [
    "with open(csv_filename, 'rb') as csvfile:\n",
    "    reader = csv.reader(csvfile, delimiter=',')\n",
    "    headings = []\n",
    "    data = []\n",
    "    for i, row in enumerate(reader):\n",
    "        if i == 0:\n",
    "            headings = row\n",
    "        else:\n",
    "            data_with_floats = []\n",
    "            for val in row:\n",
    "                try:\n",
    "                    data_with_floats.append(float(val))\n",
    "                except:\n",
    "                    data_with_floats.append(val)\n",
    "            data.append(data_with_floats)\n",
    "manual_cond_idx = headings.index(\"manual condition\")\n",
    "robot_idx = headings.index(\"robot\")\n",
    "total_rew_idx = headings.index(\"total reward\")\n",
    "rews = []\n",
    "rews1 = []\n",
    "rews2 = []\n",
    "for row in data:\n",
    "    if row[robot_idx] == \"0.9-Greedy\" and row[manual_cond_idx] == \"Group 2\":\n",
    "        if row[cond_idx] == \"collaborate\":\n",
    "            rews1.append(row[total_rew_idx])\n",
    "        else:\n",
    "            rews2.append(row[total_rew_idx])\n",
    "        print row[cond_idx], row[total_rew_idx]\n",
    "        rews.append(row[total_rew_idx])\n",
    "print\n",
    "print np.average(rews)"
   ]
  },
  {
   "cell_type": "code",
   "execution_count": 127,
   "metadata": {},
   "outputs": [
    {
     "name": "stdout",
     "output_type": "stream",
     "text": [
      "28 92\n",
      "30 91\n",
      "[  2  21   6 -25  31   3 -16  22 -15 -50 -11  17   7  17  25 -34   4  -6\n",
      " -38  12  12   6  -6  -1   3 -43  26 -21   4  -9 -33  10  -9  41  -2   1\n",
      "  11   5]\n",
      "22 13.0\n",
      "16 -19.9375\n"
     ]
    }
   ],
   "source": [
    "all_explore_scores = np.array([\n",
    "[55, 86, 88, 73],\n",
    "[57, 52, 73, 48],\n",
    "[38, 64, 70, 59],\n",
    "[64, 79, 54, 55],\n",
    "[73, 30, 61, 74],\n",
    "[59, 67, 70, 33],\n",
    "[70, 64, 48, 25], #\n",
    "[67, 35, 57, 76],\n",
    "[78, 79, 64, 74], #\n",
    "[35, 85, 35, 30],\n",
    "[77, 77, 66, 45], #\n",
    "[56, 62, 79, 66],\n",
    "[42, 72, 79, 36],\n",
    "[35, 46, 63, 57],\n",
    "[45, 59, 84, 73],\n",
    "[84, 62, 28, 31], #\n",
    "[86, 79, 83, 52],\n",
    "[51, 69, 63, 59],\n",
    "[94, 85, 47, 38], #\n",
    "[77, 71, 83, 33],\n",
    "[62, 33, 45, 48],\n",
    "[68, 49, 55, 43],\n",
    "[67, 68, 62, 82], #\n",
    "[73, 70, 69, 66], #\n",
    "[52, 42, 45, 52],\n",
    "[71, 71, 28, 62], #\n",
    "[45, 39, 65, 62],\n",
    "[42, 87, 66, 106],#\n",
    "[83, 86, 90, 53],\n",
    "[44, 76, 67, 63],\n",
    "[40, 79, 46, 88], #\n",
    "[77, 64, 74, 90],\n",
    "[27, 65, 56, 97], #\n",
    "[39, 39, 80, 65],\n",
    "[58, 68, 66, 45],\n",
    "[72, 91, 92, 67],\n",
    "[59, 73, 84, 55],\n",
    "[45, 70, 75, 65]])\n",
    "print min(all_explore_scores[:,2]), max(all_explore_scores[:,2])\n",
    "print min(all_explore_scores[:,1]), max(all_explore_scores[:,1])\n",
    "diffs = all_explore_scores[:,2] - all_explore_scores[:,1]\n",
    "print diffs\n",
    "pos = []\n",
    "neg = []\n",
    "for i in diffs:\n",
    "    if i >= 0:\n",
    "        pos.append(i)\n",
    "    else:\n",
    "        neg.append(i)\n",
    "print len(pos), np.average(pos)\n",
    "print len(neg), np.average(neg)"
   ]
  },
  {
   "cell_type": "code",
   "execution_count": null,
   "metadata": {
    "collapsed": true
   },
   "outputs": [],
   "source": []
  }
 ],
 "metadata": {
  "kernelspec": {
   "display_name": "Python 2",
   "language": "python",
   "name": "python2"
  },
  "language_info": {
   "codemirror_mode": {
    "name": "ipython",
    "version": 2
   },
   "file_extension": ".py",
   "mimetype": "text/x-python",
   "name": "python",
   "nbconvert_exporter": "python",
   "pygments_lexer": "ipython2",
   "version": "2.7.12"
  }
 },
 "nbformat": 4,
 "nbformat_minor": 2
}
